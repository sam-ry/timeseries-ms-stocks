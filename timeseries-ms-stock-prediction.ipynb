{
 "cells": [
  {
   "cell_type": "code",
   "execution_count": 1,
   "id": "4ab0cad8",
   "metadata": {
    "_cell_guid": "b1076dfc-b9ad-4769-8c92-a6c4dae69d19",
    "_uuid": "8f2839f25d086af736a60e9eeb907d3b93b6e0e5",
    "execution": {
     "iopub.execute_input": "2025-05-15T10:45:25.762847Z",
     "iopub.status.busy": "2025-05-15T10:45:25.762516Z",
     "iopub.status.idle": "2025-05-15T10:45:27.781512Z",
     "shell.execute_reply": "2025-05-15T10:45:27.780666Z"
    },
    "papermill": {
     "duration": 2.026427,
     "end_time": "2025-05-15T10:45:27.783275",
     "exception": false,
     "start_time": "2025-05-15T10:45:25.756848",
     "status": "completed"
    },
    "tags": []
   },
   "outputs": [],
   "source": [
    "import pandas as pd"
   ]
  },
  {
   "cell_type": "code",
   "execution_count": 2,
   "id": "ec5bff5c",
   "metadata": {
    "execution": {
     "iopub.execute_input": "2025-05-15T10:45:27.792013Z",
     "iopub.status.busy": "2025-05-15T10:45:27.791553Z",
     "iopub.status.idle": "2025-05-15T10:45:27.845973Z",
     "shell.execute_reply": "2025-05-15T10:45:27.844575Z"
    },
    "papermill": {
     "duration": 0.061174,
     "end_time": "2025-05-15T10:45:27.848215",
     "exception": false,
     "start_time": "2025-05-15T10:45:27.787041",
     "status": "completed"
    },
    "tags": []
   },
   "outputs": [
    {
     "data": {
      "text/html": [
       "<div>\n",
       "<style scoped>\n",
       "    .dataframe tbody tr th:only-of-type {\n",
       "        vertical-align: middle;\n",
       "    }\n",
       "\n",
       "    .dataframe tbody tr th {\n",
       "        vertical-align: top;\n",
       "    }\n",
       "\n",
       "    .dataframe thead th {\n",
       "        text-align: right;\n",
       "    }\n",
       "</style>\n",
       "<table border=\"1\" class=\"dataframe\">\n",
       "  <thead>\n",
       "    <tr style=\"text-align: right;\">\n",
       "      <th></th>\n",
       "      <th>index</th>\n",
       "      <th>date</th>\n",
       "      <th>open</th>\n",
       "      <th>high</th>\n",
       "      <th>low</th>\n",
       "      <th>close</th>\n",
       "      <th>volume</th>\n",
       "      <th>Name</th>\n",
       "    </tr>\n",
       "  </thead>\n",
       "  <tbody>\n",
       "    <tr>\n",
       "      <th>0</th>\n",
       "      <td>390198</td>\n",
       "      <td>2013-02-08</td>\n",
       "      <td>27.35</td>\n",
       "      <td>27.71</td>\n",
       "      <td>27.31</td>\n",
       "      <td>27.55</td>\n",
       "      <td>33318306</td>\n",
       "      <td>MSFT</td>\n",
       "    </tr>\n",
       "    <tr>\n",
       "      <th>1</th>\n",
       "      <td>390199</td>\n",
       "      <td>2013-02-11</td>\n",
       "      <td>27.65</td>\n",
       "      <td>27.92</td>\n",
       "      <td>27.50</td>\n",
       "      <td>27.86</td>\n",
       "      <td>32247549</td>\n",
       "      <td>MSFT</td>\n",
       "    </tr>\n",
       "    <tr>\n",
       "      <th>2</th>\n",
       "      <td>390200</td>\n",
       "      <td>2013-02-12</td>\n",
       "      <td>27.88</td>\n",
       "      <td>28.00</td>\n",
       "      <td>27.75</td>\n",
       "      <td>27.88</td>\n",
       "      <td>35990829</td>\n",
       "      <td>MSFT</td>\n",
       "    </tr>\n",
       "    <tr>\n",
       "      <th>3</th>\n",
       "      <td>390201</td>\n",
       "      <td>2013-02-13</td>\n",
       "      <td>27.93</td>\n",
       "      <td>28.11</td>\n",
       "      <td>27.88</td>\n",
       "      <td>28.03</td>\n",
       "      <td>41715530</td>\n",
       "      <td>MSFT</td>\n",
       "    </tr>\n",
       "    <tr>\n",
       "      <th>4</th>\n",
       "      <td>390202</td>\n",
       "      <td>2013-02-14</td>\n",
       "      <td>27.92</td>\n",
       "      <td>28.06</td>\n",
       "      <td>27.87</td>\n",
       "      <td>28.04</td>\n",
       "      <td>32663174</td>\n",
       "      <td>MSFT</td>\n",
       "    </tr>\n",
       "  </tbody>\n",
       "</table>\n",
       "</div>"
      ],
      "text/plain": [
       "    index        date   open   high    low  close    volume  Name\n",
       "0  390198  2013-02-08  27.35  27.71  27.31  27.55  33318306  MSFT\n",
       "1  390199  2013-02-11  27.65  27.92  27.50  27.86  32247549  MSFT\n",
       "2  390200  2013-02-12  27.88  28.00  27.75  27.88  35990829  MSFT\n",
       "3  390201  2013-02-13  27.93  28.11  27.88  28.03  41715530  MSFT\n",
       "4  390202  2013-02-14  27.92  28.06  27.87  28.04  32663174  MSFT"
      ]
     },
     "execution_count": 2,
     "metadata": {},
     "output_type": "execute_result"
    }
   ],
   "source": [
    "df = pd.read_csv('/kaggle/input/microsoft-stock-price-prediction-with-ml/MicrosoftStock.csv')\n",
    "data = df\n",
    "data.head()"
   ]
  },
  {
   "cell_type": "code",
   "execution_count": 3,
   "id": "75f64bed",
   "metadata": {
    "execution": {
     "iopub.execute_input": "2025-05-15T10:45:27.856913Z",
     "iopub.status.busy": "2025-05-15T10:45:27.856592Z",
     "iopub.status.idle": "2025-05-15T10:45:27.891731Z",
     "shell.execute_reply": "2025-05-15T10:45:27.890594Z"
    },
    "papermill": {
     "duration": 0.041162,
     "end_time": "2025-05-15T10:45:27.893215",
     "exception": false,
     "start_time": "2025-05-15T10:45:27.852053",
     "status": "completed"
    },
    "tags": []
   },
   "outputs": [
    {
     "name": "stdout",
     "output_type": "stream",
     "text": [
      "<class 'pandas.core.frame.DataFrame'>\n",
      "RangeIndex: 1259 entries, 0 to 1258\n",
      "Data columns (total 8 columns):\n",
      " #   Column  Non-Null Count  Dtype         \n",
      "---  ------  --------------  -----         \n",
      " 0   index   1259 non-null   int64         \n",
      " 1   date    1259 non-null   datetime64[ns]\n",
      " 2   open    1259 non-null   float64       \n",
      " 3   high    1259 non-null   float64       \n",
      " 4   low     1259 non-null   float64       \n",
      " 5   close   1259 non-null   float64       \n",
      " 6   volume  1259 non-null   int64         \n",
      " 7   Name    1259 non-null   object        \n",
      "dtypes: datetime64[ns](1), float64(4), int64(2), object(1)\n",
      "memory usage: 78.8+ KB\n"
     ]
    }
   ],
   "source": [
    "data.date = pd.to_datetime(data.date)\n",
    "data.info()\n",
    "data.Name.value_counts()\n",
    "data.drop(columns = 'Name', inplace=True)"
   ]
  },
  {
   "cell_type": "code",
   "execution_count": 4,
   "id": "c0905d44",
   "metadata": {
    "execution": {
     "iopub.execute_input": "2025-05-15T10:45:27.901804Z",
     "iopub.status.busy": "2025-05-15T10:45:27.901492Z",
     "iopub.status.idle": "2025-05-15T10:45:27.914949Z",
     "shell.execute_reply": "2025-05-15T10:45:27.914021Z"
    },
    "papermill": {
     "duration": 0.019619,
     "end_time": "2025-05-15T10:45:27.916585",
     "exception": false,
     "start_time": "2025-05-15T10:45:27.896966",
     "status": "completed"
    },
    "tags": []
   },
   "outputs": [
    {
     "data": {
      "text/html": [
       "<div>\n",
       "<style scoped>\n",
       "    .dataframe tbody tr th:only-of-type {\n",
       "        vertical-align: middle;\n",
       "    }\n",
       "\n",
       "    .dataframe tbody tr th {\n",
       "        vertical-align: top;\n",
       "    }\n",
       "\n",
       "    .dataframe thead th {\n",
       "        text-align: right;\n",
       "    }\n",
       "</style>\n",
       "<table border=\"1\" class=\"dataframe\">\n",
       "  <thead>\n",
       "    <tr style=\"text-align: right;\">\n",
       "      <th></th>\n",
       "      <th>index</th>\n",
       "      <th>date</th>\n",
       "      <th>open</th>\n",
       "      <th>high</th>\n",
       "      <th>low</th>\n",
       "      <th>close</th>\n",
       "      <th>volume</th>\n",
       "    </tr>\n",
       "  </thead>\n",
       "  <tbody>\n",
       "    <tr>\n",
       "      <th>0</th>\n",
       "      <td>390198</td>\n",
       "      <td>2013-02-08</td>\n",
       "      <td>27.3500</td>\n",
       "      <td>27.71</td>\n",
       "      <td>27.310</td>\n",
       "      <td>27.550</td>\n",
       "      <td>33318306</td>\n",
       "    </tr>\n",
       "    <tr>\n",
       "      <th>1</th>\n",
       "      <td>390199</td>\n",
       "      <td>2013-02-11</td>\n",
       "      <td>27.6500</td>\n",
       "      <td>27.92</td>\n",
       "      <td>27.500</td>\n",
       "      <td>27.860</td>\n",
       "      <td>32247549</td>\n",
       "    </tr>\n",
       "    <tr>\n",
       "      <th>2</th>\n",
       "      <td>390200</td>\n",
       "      <td>2013-02-12</td>\n",
       "      <td>27.8800</td>\n",
       "      <td>28.00</td>\n",
       "      <td>27.750</td>\n",
       "      <td>27.880</td>\n",
       "      <td>35990829</td>\n",
       "    </tr>\n",
       "    <tr>\n",
       "      <th>3</th>\n",
       "      <td>390201</td>\n",
       "      <td>2013-02-13</td>\n",
       "      <td>27.9300</td>\n",
       "      <td>28.11</td>\n",
       "      <td>27.880</td>\n",
       "      <td>28.030</td>\n",
       "      <td>41715530</td>\n",
       "    </tr>\n",
       "    <tr>\n",
       "      <th>4</th>\n",
       "      <td>390202</td>\n",
       "      <td>2013-02-14</td>\n",
       "      <td>27.9200</td>\n",
       "      <td>28.06</td>\n",
       "      <td>27.870</td>\n",
       "      <td>28.040</td>\n",
       "      <td>32663174</td>\n",
       "    </tr>\n",
       "    <tr>\n",
       "      <th>5</th>\n",
       "      <td>390203</td>\n",
       "      <td>2013-02-15</td>\n",
       "      <td>28.0400</td>\n",
       "      <td>28.16</td>\n",
       "      <td>27.875</td>\n",
       "      <td>28.010</td>\n",
       "      <td>49650538</td>\n",
       "    </tr>\n",
       "    <tr>\n",
       "      <th>6</th>\n",
       "      <td>390204</td>\n",
       "      <td>2013-02-19</td>\n",
       "      <td>27.8801</td>\n",
       "      <td>28.09</td>\n",
       "      <td>27.800</td>\n",
       "      <td>28.045</td>\n",
       "      <td>38804616</td>\n",
       "    </tr>\n",
       "    <tr>\n",
       "      <th>7</th>\n",
       "      <td>390205</td>\n",
       "      <td>2013-02-20</td>\n",
       "      <td>28.1300</td>\n",
       "      <td>28.20</td>\n",
       "      <td>27.830</td>\n",
       "      <td>27.870</td>\n",
       "      <td>44109412</td>\n",
       "    </tr>\n",
       "    <tr>\n",
       "      <th>8</th>\n",
       "      <td>390206</td>\n",
       "      <td>2013-02-21</td>\n",
       "      <td>27.7400</td>\n",
       "      <td>27.74</td>\n",
       "      <td>27.230</td>\n",
       "      <td>27.490</td>\n",
       "      <td>49078338</td>\n",
       "    </tr>\n",
       "    <tr>\n",
       "      <th>9</th>\n",
       "      <td>390207</td>\n",
       "      <td>2013-02-22</td>\n",
       "      <td>27.6800</td>\n",
       "      <td>27.76</td>\n",
       "      <td>27.480</td>\n",
       "      <td>27.760</td>\n",
       "      <td>31425726</td>\n",
       "    </tr>\n",
       "  </tbody>\n",
       "</table>\n",
       "</div>"
      ],
      "text/plain": [
       "    index       date     open   high     low   close    volume\n",
       "0  390198 2013-02-08  27.3500  27.71  27.310  27.550  33318306\n",
       "1  390199 2013-02-11  27.6500  27.92  27.500  27.860  32247549\n",
       "2  390200 2013-02-12  27.8800  28.00  27.750  27.880  35990829\n",
       "3  390201 2013-02-13  27.9300  28.11  27.880  28.030  41715530\n",
       "4  390202 2013-02-14  27.9200  28.06  27.870  28.040  32663174\n",
       "5  390203 2013-02-15  28.0400  28.16  27.875  28.010  49650538\n",
       "6  390204 2013-02-19  27.8801  28.09  27.800  28.045  38804616\n",
       "7  390205 2013-02-20  28.1300  28.20  27.830  27.870  44109412\n",
       "8  390206 2013-02-21  27.7400  27.74  27.230  27.490  49078338\n",
       "9  390207 2013-02-22  27.6800  27.76  27.480  27.760  31425726"
      ]
     },
     "execution_count": 4,
     "metadata": {},
     "output_type": "execute_result"
    }
   ],
   "source": [
    "data.head(10)"
   ]
  },
  {
   "cell_type": "code",
   "execution_count": 5,
   "id": "2e163266",
   "metadata": {
    "execution": {
     "iopub.execute_input": "2025-05-15T10:45:27.926477Z",
     "iopub.status.busy": "2025-05-15T10:45:27.926151Z",
     "iopub.status.idle": "2025-05-15T10:45:28.319225Z",
     "shell.execute_reply": "2025-05-15T10:45:28.318254Z"
    },
    "papermill": {
     "duration": 0.399784,
     "end_time": "2025-05-15T10:45:28.320928",
     "exception": false,
     "start_time": "2025-05-15T10:45:27.921144",
     "status": "completed"
    },
    "tags": []
   },
   "outputs": [
    {
     "data": {
      "image/png": "[encoded data removed]",
      "text/plain": [
       "<Figure size 640x480 with 1 Axes>"
      ]
     },
     "metadata": {},
     "output_type": "display_data"
    }
   ],
   "source": [
    "import matplotlib.pyplot as plt\n",
    "data.high.plot()\n",
    "data.low.plot()\n",
    "# data.close.plot()\n",
    "plt.show()"
   ]
  },
  {
   "cell_type": "code",
   "execution_count": 6,
   "id": "d86b48ff",
   "metadata": {
    "execution": {
     "iopub.execute_input": "2025-05-15T10:45:28.331177Z",
     "iopub.status.busy": "2025-05-15T10:45:28.330876Z",
     "iopub.status.idle": "2025-05-15T10:45:28.340534Z",
     "shell.execute_reply": "2025-05-15T10:45:28.339511Z"
    },
    "papermill": {
     "duration": 0.016729,
     "end_time": "2025-05-15T10:45:28.342195",
     "exception": false,
     "start_time": "2025-05-15T10:45:28.325466",
     "status": "completed"
    },
    "tags": []
   },
   "outputs": [],
   "source": [
    "days = data[(data.date > '2013-02-08') & (data.date < '2013-04-01')]\n",
    "# days"
   ]
  },
  {
   "cell_type": "code",
   "execution_count": 7,
   "id": "27a408f3",
   "metadata": {
    "execution": {
     "iopub.execute_input": "2025-05-15T10:45:28.352427Z",
     "iopub.status.busy": "2025-05-15T10:45:28.352022Z",
     "iopub.status.idle": "2025-05-15T10:45:28.537299Z",
     "shell.execute_reply": "2025-05-15T10:45:28.536406Z"
    },
    "papermill": {
     "duration": 0.194113,
     "end_time": "2025-05-15T10:45:28.540852",
     "exception": false,
     "start_time": "2025-05-15T10:45:28.346739",
     "status": "completed"
    },
    "tags": []
   },
   "outputs": [
    {
     "data": {
      "image/png": "[encoded data removed]",
      "text/plain": [
       "<Figure size 640x480 with 1 Axes>"
      ]
     },
     "metadata": {},
     "output_type": "display_data"
    }
   ],
   "source": [
    "days.high.plot()\n",
    "days.low.plot()\n",
    "days.close.plot()\n",
    "plt.show()"
   ]
  },
  {
   "cell_type": "markdown",
   "id": "2ad78067",
   "metadata": {
    "papermill": {
     "duration": 0.004861,
     "end_time": "2025-05-15T10:45:28.551640",
     "exception": false,
     "start_time": "2025-05-15T10:45:28.546779",
     "status": "completed"
    },
    "tags": []
   },
   "source": [
    "# XGBoost"
   ]
  },
  {
   "cell_type": "code",
   "execution_count": 8,
   "id": "658ca551",
   "metadata": {
    "execution": {
     "iopub.execute_input": "2025-05-15T10:45:28.563599Z",
     "iopub.status.busy": "2025-05-15T10:45:28.563257Z",
     "iopub.status.idle": "2025-05-15T10:45:28.575562Z",
     "shell.execute_reply": "2025-05-15T10:45:28.574615Z"
    },
    "papermill": {
     "duration": 0.019965,
     "end_time": "2025-05-15T10:45:28.577194",
     "exception": false,
     "start_time": "2025-05-15T10:45:28.557229",
     "status": "completed"
    },
    "tags": []
   },
   "outputs": [
    {
     "data": {
      "text/html": [
       "<div>\n",
       "<style scoped>\n",
       "    .dataframe tbody tr th:only-of-type {\n",
       "        vertical-align: middle;\n",
       "    }\n",
       "\n",
       "    .dataframe tbody tr th {\n",
       "        vertical-align: top;\n",
       "    }\n",
       "\n",
       "    .dataframe thead th {\n",
       "        text-align: right;\n",
       "    }\n",
       "</style>\n",
       "<table border=\"1\" class=\"dataframe\">\n",
       "  <thead>\n",
       "    <tr style=\"text-align: right;\">\n",
       "      <th></th>\n",
       "      <th>index</th>\n",
       "      <th>date</th>\n",
       "      <th>open</th>\n",
       "      <th>high</th>\n",
       "      <th>low</th>\n",
       "      <th>close</th>\n",
       "      <th>volume</th>\n",
       "    </tr>\n",
       "  </thead>\n",
       "  <tbody>\n",
       "    <tr>\n",
       "      <th>0</th>\n",
       "      <td>390198</td>\n",
       "      <td>2013-02-08</td>\n",
       "      <td>27.35</td>\n",
       "      <td>27.71</td>\n",
       "      <td>27.31</td>\n",
       "      <td>27.55</td>\n",
       "      <td>33318306</td>\n",
       "    </tr>\n",
       "    <tr>\n",
       "      <th>1</th>\n",
       "      <td>390199</td>\n",
       "      <td>2013-02-11</td>\n",
       "      <td>27.65</td>\n",
       "      <td>27.92</td>\n",
       "      <td>27.50</td>\n",
       "      <td>27.86</td>\n",
       "      <td>32247549</td>\n",
       "    </tr>\n",
       "    <tr>\n",
       "      <th>2</th>\n",
       "      <td>390200</td>\n",
       "      <td>2013-02-12</td>\n",
       "      <td>27.88</td>\n",
       "      <td>28.00</td>\n",
       "      <td>27.75</td>\n",
       "      <td>27.88</td>\n",
       "      <td>35990829</td>\n",
       "    </tr>\n",
       "    <tr>\n",
       "      <th>3</th>\n",
       "      <td>390201</td>\n",
       "      <td>2013-02-13</td>\n",
       "      <td>27.93</td>\n",
       "      <td>28.11</td>\n",
       "      <td>27.88</td>\n",
       "      <td>28.03</td>\n",
       "      <td>41715530</td>\n",
       "    </tr>\n",
       "    <tr>\n",
       "      <th>4</th>\n",
       "      <td>390202</td>\n",
       "      <td>2013-02-14</td>\n",
       "      <td>27.92</td>\n",
       "      <td>28.06</td>\n",
       "      <td>27.87</td>\n",
       "      <td>28.04</td>\n",
       "      <td>32663174</td>\n",
       "    </tr>\n",
       "  </tbody>\n",
       "</table>\n",
       "</div>"
      ],
      "text/plain": [
       "    index       date   open   high    low  close    volume\n",
       "0  390198 2013-02-08  27.35  27.71  27.31  27.55  33318306\n",
       "1  390199 2013-02-11  27.65  27.92  27.50  27.86  32247549\n",
       "2  390200 2013-02-12  27.88  28.00  27.75  27.88  35990829\n",
       "3  390201 2013-02-13  27.93  28.11  27.88  28.03  41715530\n",
       "4  390202 2013-02-14  27.92  28.06  27.87  28.04  32663174"
      ]
     },
     "execution_count": 8,
     "metadata": {},
     "output_type": "execute_result"
    }
   ],
   "source": [
    "data.head()"
   ]
  },
  {
   "cell_type": "code",
   "execution_count": 9,
   "id": "14cff13b",
   "metadata": {
    "execution": {
     "iopub.execute_input": "2025-05-15T10:45:28.589903Z",
     "iopub.status.busy": "2025-05-15T10:45:28.589585Z",
     "iopub.status.idle": "2025-05-15T10:45:28.614058Z",
     "shell.execute_reply": "2025-05-15T10:45:28.613201Z"
    },
    "papermill": {
     "duration": 0.032564,
     "end_time": "2025-05-15T10:45:28.615844",
     "exception": false,
     "start_time": "2025-05-15T10:45:28.583280",
     "status": "completed"
    },
    "tags": []
   },
   "outputs": [
    {
     "data": {
      "text/html": [
       "<div>\n",
       "<style scoped>\n",
       "    .dataframe tbody tr th:only-of-type {\n",
       "        vertical-align: middle;\n",
       "    }\n",
       "\n",
       "    .dataframe tbody tr th {\n",
       "        vertical-align: top;\n",
       "    }\n",
       "\n",
       "    .dataframe thead th {\n",
       "        text-align: right;\n",
       "    }\n",
       "</style>\n",
       "<table border=\"1\" class=\"dataframe\">\n",
       "  <thead>\n",
       "    <tr style=\"text-align: right;\">\n",
       "      <th></th>\n",
       "      <th>index</th>\n",
       "      <th>date</th>\n",
       "      <th>open</th>\n",
       "      <th>high</th>\n",
       "      <th>low</th>\n",
       "      <th>close</th>\n",
       "      <th>volume</th>\n",
       "      <th>dayofweek</th>\n",
       "      <th>quarter</th>\n",
       "      <th>month</th>\n",
       "      <th>year</th>\n",
       "      <th>dayofyear</th>\n",
       "    </tr>\n",
       "  </thead>\n",
       "  <tbody>\n",
       "    <tr>\n",
       "      <th>0</th>\n",
       "      <td>390198</td>\n",
       "      <td>2013-02-08</td>\n",
       "      <td>27.35</td>\n",
       "      <td>27.71</td>\n",
       "      <td>27.31</td>\n",
       "      <td>27.55</td>\n",
       "      <td>33318306</td>\n",
       "      <td>4</td>\n",
       "      <td>1</td>\n",
       "      <td>2</td>\n",
       "      <td>2013</td>\n",
       "      <td>39</td>\n",
       "    </tr>\n",
       "    <tr>\n",
       "      <th>1</th>\n",
       "      <td>390199</td>\n",
       "      <td>2013-02-11</td>\n",
       "      <td>27.65</td>\n",
       "      <td>27.92</td>\n",
       "      <td>27.50</td>\n",
       "      <td>27.86</td>\n",
       "      <td>32247549</td>\n",
       "      <td>0</td>\n",
       "      <td>1</td>\n",
       "      <td>2</td>\n",
       "      <td>2013</td>\n",
       "      <td>42</td>\n",
       "    </tr>\n",
       "    <tr>\n",
       "      <th>2</th>\n",
       "      <td>390200</td>\n",
       "      <td>2013-02-12</td>\n",
       "      <td>27.88</td>\n",
       "      <td>28.00</td>\n",
       "      <td>27.75</td>\n",
       "      <td>27.88</td>\n",
       "      <td>35990829</td>\n",
       "      <td>1</td>\n",
       "      <td>1</td>\n",
       "      <td>2</td>\n",
       "      <td>2013</td>\n",
       "      <td>43</td>\n",
       "    </tr>\n",
       "    <tr>\n",
       "      <th>3</th>\n",
       "      <td>390201</td>\n",
       "      <td>2013-02-13</td>\n",
       "      <td>27.93</td>\n",
       "      <td>28.11</td>\n",
       "      <td>27.88</td>\n",
       "      <td>28.03</td>\n",
       "      <td>41715530</td>\n",
       "      <td>2</td>\n",
       "      <td>1</td>\n",
       "      <td>2</td>\n",
       "      <td>2013</td>\n",
       "      <td>44</td>\n",
       "    </tr>\n",
       "    <tr>\n",
       "      <th>4</th>\n",
       "      <td>390202</td>\n",
       "      <td>2013-02-14</td>\n",
       "      <td>27.92</td>\n",
       "      <td>28.06</td>\n",
       "      <td>27.87</td>\n",
       "      <td>28.04</td>\n",
       "      <td>32663174</td>\n",
       "      <td>3</td>\n",
       "      <td>1</td>\n",
       "      <td>2</td>\n",
       "      <td>2013</td>\n",
       "      <td>45</td>\n",
       "    </tr>\n",
       "  </tbody>\n",
       "</table>\n",
       "</div>"
      ],
      "text/plain": [
       "    index       date   open   high    low  close    volume  dayofweek  \\\n",
       "0  390198 2013-02-08  27.35  27.71  27.31  27.55  33318306          4   \n",
       "1  390199 2013-02-11  27.65  27.92  27.50  27.86  32247549          0   \n",
       "2  390200 2013-02-12  27.88  28.00  27.75  27.88  35990829          1   \n",
       "3  390201 2013-02-13  27.93  28.11  27.88  28.03  41715530          2   \n",
       "4  390202 2013-02-14  27.92  28.06  27.87  28.04  32663174          3   \n",
       "\n",
       "   quarter  month  year  dayofyear  \n",
       "0        1      2  2013         39  \n",
       "1        1      2  2013         42  \n",
       "2        1      2  2013         43  \n",
       "3        1      2  2013         44  \n",
       "4        1      2  2013         45  "
      ]
     },
     "execution_count": 9,
     "metadata": {},
     "output_type": "execute_result"
    }
   ],
   "source": [
    "data['dayofweek']=data.date.dt.dayofweek\n",
    "data['quarter']=data.date.dt.quarter\n",
    "data['month']=data.date.dt.month\n",
    "data['year']=data.date.dt.year\n",
    "data['dayofyear']=data.date.dt.dayofyear\n",
    "data.head()"
   ]
  },
  {
   "cell_type": "code",
   "execution_count": 10,
   "id": "4a8b3d17",
   "metadata": {
    "execution": {
     "iopub.execute_input": "2025-05-15T10:45:28.632787Z",
     "iopub.status.busy": "2025-05-15T10:45:28.632430Z",
     "iopub.status.idle": "2025-05-15T10:45:30.589526Z",
     "shell.execute_reply": "2025-05-15T10:45:30.588550Z"
    },
    "papermill": {
     "duration": 1.967786,
     "end_time": "2025-05-15T10:45:30.591208",
     "exception": false,
     "start_time": "2025-05-15T10:45:28.623422",
     "status": "completed"
    },
    "tags": []
   },
   "outputs": [],
   "source": [
    "data.corr()\n",
    "import seaborn as sns\n",
    "# plt.figure(figsize=(8,6))\n",
    "# sns.heatmap(data.corr())"
   ]
  },
  {
   "cell_type": "code",
   "execution_count": 11,
   "id": "a2e62e74",
   "metadata": {
    "execution": {
     "iopub.execute_input": "2025-05-15T10:45:30.604717Z",
     "iopub.status.busy": "2025-05-15T10:45:30.603247Z",
     "iopub.status.idle": "2025-05-15T10:45:30.616145Z",
     "shell.execute_reply": "2025-05-15T10:45:30.615048Z"
    },
    "papermill": {
     "duration": 0.021254,
     "end_time": "2025-05-15T10:45:30.618104",
     "exception": false,
     "start_time": "2025-05-15T10:45:30.596850",
     "status": "completed"
    },
    "tags": []
   },
   "outputs": [
    {
     "name": "stdout",
     "output_type": "stream",
     "text": [
      "(1044, 10) (1044,) (215, 10) (215,)\n"
     ]
    }
   ],
   "source": [
    "x = data.drop(columns = ['date','close'])\n",
    "y = data.close\n",
    "xtrain, ytrain = x[data.date < '2017-04-01'], y[data.date < '2017-04-01']\n",
    "xtest, ytest = x[data.date >= '2017-04-01'], y[data.date >= '2017-04-01']\n",
    "print(xtrain.shape, ytrain.shape, xtest.shape, ytest.shape)\n"
   ]
  },
  {
   "cell_type": "code",
   "execution_count": 12,
   "id": "56f826d1",
   "metadata": {
    "execution": {
     "iopub.execute_input": "2025-05-15T10:45:30.630846Z",
     "iopub.status.busy": "2025-05-15T10:45:30.630556Z",
     "iopub.status.idle": "2025-05-15T10:45:31.895233Z",
     "shell.execute_reply": "2025-05-15T10:45:31.894071Z"
    },
    "papermill": {
     "duration": 1.273367,
     "end_time": "2025-05-15T10:45:31.897162",
     "exception": false,
     "start_time": "2025-05-15T10:45:30.623795",
     "status": "completed"
    },
    "tags": []
   },
   "outputs": [
    {
     "data": {
      "text/html": [
       "<style>#sk-container-id-1 {color: black;background-color: white;}#sk-container-id-1 pre{padding: 0;}#sk-container-id-1 div.sk-toggleable {background-color: white;}#sk-container-id-1 label.sk-toggleable__label {cursor: pointer;display: block;width: 100%;margin-bottom: 0;padding: 0.3em;box-sizing: border-box;text-align: center;}#sk-container-id-1 label.sk-toggleable__label-arrow:before {content: \"▸\";float: left;margin-right: 0.25em;color: #696969;}#sk-container-id-1 label.sk-toggleable__label-arrow:hover:before {color: black;}#sk-container-id-1 div.sk-estimator:hover label.sk-toggleable__label-arrow:before {color: black;}#sk-container-id-1 div.sk-toggleable__content {max-height: 0;max-width: 0;overflow: hidden;text-align: left;background-color: #f0f8ff;}#sk-container-id-1 div.sk-toggleable__content pre {margin: 0.2em;color: black;border-radius: 0.25em;background-color: #f0f8ff;}#sk-container-id-1 input.sk-toggleable__control:checked~div.sk-toggleable__content {max-height: 200px;max-width: 100%;overflow: auto;}#sk-container-id-1 input.sk-toggleable__control:checked~label.sk-toggleable__label-arrow:before {content: \"▾\";}#sk-container-id-1 div.sk-estimator input.sk-toggleable__control:checked~label.sk-toggleable__label {background-color: #d4ebff;}#sk-container-id-1 div.sk-label input.sk-toggleable__control:checked~label.sk-toggleable__label {background-color: #d4ebff;}#sk-container-id-1 input.sk-hidden--visually {border: 0;clip: rect(1px 1px 1px 1px);clip: rect(1px, 1px, 1px, 1px);height: 1px;margin: -1px;overflow: hidden;padding: 0;position: absolute;width: 1px;}#sk-container-id-1 div.sk-estimator {font-family: monospace;background-color: #f0f8ff;border: 1px dotted black;border-radius: 0.25em;box-sizing: border-box;margin-bottom: 0.5em;}#sk-container-id-1 div.sk-estimator:hover {background-color: #d4ebff;}#sk-container-id-1 div.sk-parallel-item::after {content: \"\";width: 100%;border-bottom: 1px solid gray;flex-grow: 1;}#sk-container-id-1 div.sk-label:hover label.sk-toggleable__label {background-color: #d4ebff;}#sk-container-id-1 div.sk-serial::before {content: \"\";position: absolute;border-left: 1px solid gray;box-sizing: border-box;top: 0;bottom: 0;left: 50%;z-index: 0;}#sk-container-id-1 div.sk-serial {display: flex;flex-direction: column;align-items: center;background-color: white;padding-right: 0.2em;padding-left: 0.2em;position: relative;}#sk-container-id-1 div.sk-item {position: relative;z-index: 1;}#sk-container-id-1 div.sk-parallel {display: flex;align-items: stretch;justify-content: center;background-color: white;position: relative;}#sk-container-id-1 div.sk-item::before, #sk-container-id-1 div.sk-parallel-item::before {content: \"\";position: absolute;border-left: 1px solid gray;box-sizing: border-box;top: 0;bottom: 0;left: 50%;z-index: -1;}#sk-container-id-1 div.sk-parallel-item {display: flex;flex-direction: column;z-index: 1;position: relative;background-color: white;}#sk-container-id-1 div.sk-parallel-item:first-child::after {align-self: flex-end;width: 50%;}#sk-container-id-1 div.sk-parallel-item:last-child::after {align-self: flex-start;width: 50%;}#sk-container-id-1 div.sk-parallel-item:only-child::after {width: 0;}#sk-container-id-1 div.sk-dashed-wrapped {border: 1px dashed gray;margin: 0 0.4em 0.5em 0.4em;box-sizing: border-box;padding-bottom: 0.4em;background-color: white;}#sk-container-id-1 div.sk-label label {font-family: monospace;font-weight: bold;display: inline-block;line-height: 1.2em;}#sk-container-id-1 div.sk-label-container {text-align: center;}#sk-container-id-1 div.sk-container {/* jupyter's `normalize.less` sets `[hidden] { display: none; }` but bootstrap.min.css set `[hidden] { display: none !important; }` so we also need the `!important` here to be able to override the default hidden behavior on the sphinx rendered scikit-learn.org. See: https://github.com/scikit-learn/scikit-learn/issues/21755 */display: inline-block !important;position: relative;}#sk-container-id-1 div.sk-text-repr-fallback {display: none;}</style><div id=\"sk-container-id-1\" class=\"sk-top-container\"><div class=\"sk-text-repr-fallback\"><pre>XGBRegressor(base_score=None, booster=None, callbacks=None,\n",
       "             colsample_bylevel=None, colsample_bynode=None,\n",
       "             colsample_bytree=None, device=None, early_stopping_rounds=None,\n",
       "             enable_categorical=False, eval_metric=None, feature_types=None,\n",
       "             gamma=None, grow_policy=None, importance_type=None,\n",
       "             interaction_constraints=None, learning_rate=0.05, max_bin=None,\n",
       "             max_cat_threshold=None, max_cat_to_onehot=None,\n",
       "             max_delta_step=None, max_depth=6, max_leaves=None,\n",
       "             min_child_weight=None, missing=nan, monotone_constraints=None,\n",
       "             multi_strategy=None, n_estimators=500, n_jobs=None,\n",
       "             num_parallel_tree=None, random_state=None, ...)</pre><b>In a Jupyter environment, please rerun this cell to show the HTML representation or trust the notebook. <br />On GitHub, the HTML representation is unable to render, please try loading this page with nbviewer.org.</b></div><div class=\"sk-container\" hidden><div class=\"sk-item\"><div class=\"sk-estimator sk-toggleable\"><input class=\"sk-toggleable__control sk-hidden--visually\" id=\"sk-estimator-id-1\" type=\"checkbox\" checked><label for=\"sk-estimator-id-1\" class=\"sk-toggleable__label sk-toggleable__label-arrow\">XGBRegressor</label><div class=\"sk-toggleable__content\"><pre>XGBRegressor(base_score=None, booster=None, callbacks=None,\n",
       "             colsample_bylevel=None, colsample_bynode=None,\n",
       "             colsample_bytree=None, device=None, early_stopping_rounds=None,\n",
       "             enable_categorical=False, eval_metric=None, feature_types=None,\n",
       "             gamma=None, grow_policy=None, importance_type=None,\n",
       "             interaction_constraints=None, learning_rate=0.05, max_bin=None,\n",
       "             max_cat_threshold=None, max_cat_to_onehot=None,\n",
       "             max_delta_step=None, max_depth=6, max_leaves=None,\n",
       "             min_child_weight=None, missing=nan, monotone_constraints=None,\n",
       "             multi_strategy=None, n_estimators=500, n_jobs=None,\n",
       "             num_parallel_tree=None, random_state=None, ...)</pre></div></div></div></div></div>"
      ],
      "text/plain": [
       "XGBRegressor(base_score=None, booster=None, callbacks=None,\n",
       "             colsample_bylevel=None, colsample_bynode=None,\n",
       "             colsample_bytree=None, device=None, early_stopping_rounds=None,\n",
       "             enable_categorical=False, eval_metric=None, feature_types=None,\n",
       "             gamma=None, grow_policy=None, importance_type=None,\n",
       "             interaction_constraints=None, learning_rate=0.05, max_bin=None,\n",
       "             max_cat_threshold=None, max_cat_to_onehot=None,\n",
       "             max_delta_step=None, max_depth=6, max_leaves=None,\n",
       "             min_child_weight=None, missing=nan, monotone_constraints=None,\n",
       "             multi_strategy=None, n_estimators=500, n_jobs=None,\n",
       "             num_parallel_tree=None, random_state=None, ...)"
      ]
     },
     "execution_count": 12,
     "metadata": {},
     "output_type": "execute_result"
    }
   ],
   "source": [
    "from xgboost import XGBRegressor\n",
    "xgb = XGBRegressor(n_estimators=500, max_depth=6, learning_rate=0.05, subsample=0.8)\n",
    "xgb.fit(xtrain, ytrain)"
   ]
  },
  {
   "cell_type": "code",
   "execution_count": 13,
   "id": "65c200de",
   "metadata": {
    "execution": {
     "iopub.execute_input": "2025-05-15T10:45:31.911317Z",
     "iopub.status.busy": "2025-05-15T10:45:31.910402Z",
     "iopub.status.idle": "2025-05-15T10:45:31.921411Z",
     "shell.execute_reply": "2025-05-15T10:45:31.920717Z"
    },
    "papermill": {
     "duration": 0.019811,
     "end_time": "2025-05-15T10:45:31.923209",
     "exception": false,
     "start_time": "2025-05-15T10:45:31.903398",
     "status": "completed"
    },
    "tags": []
   },
   "outputs": [],
   "source": [
    "preds = xgb.predict(xtest)\n",
    "newpred = pd.DataFrame(data={'preds': preds, 'actual': ytest})\n",
    "# ytest.shape"
   ]
  },
  {
   "cell_type": "code",
   "execution_count": 14,
   "id": "76170ea1",
   "metadata": {
    "execution": {
     "iopub.execute_input": "2025-05-15T10:45:31.936616Z",
     "iopub.status.busy": "2025-05-15T10:45:31.936257Z",
     "iopub.status.idle": "2025-05-15T10:45:31.950858Z",
     "shell.execute_reply": "2025-05-15T10:45:31.949841Z"
    },
    "papermill": {
     "duration": 0.022873,
     "end_time": "2025-05-15T10:45:31.952305",
     "exception": false,
     "start_time": "2025-05-15T10:45:31.929432",
     "status": "completed"
    },
    "tags": []
   },
   "outputs": [
    {
     "data": {
      "text/html": [
       "<div>\n",
       "<style scoped>\n",
       "    .dataframe tbody tr th:only-of-type {\n",
       "        vertical-align: middle;\n",
       "    }\n",
       "\n",
       "    .dataframe tbody tr th {\n",
       "        vertical-align: top;\n",
       "    }\n",
       "\n",
       "    .dataframe thead th {\n",
       "        text-align: right;\n",
       "    }\n",
       "</style>\n",
       "<table border=\"1\" class=\"dataframe\">\n",
       "  <thead>\n",
       "    <tr style=\"text-align: right;\">\n",
       "      <th></th>\n",
       "      <th>preds</th>\n",
       "      <th>actual</th>\n",
       "      <th>diff</th>\n",
       "    </tr>\n",
       "  </thead>\n",
       "  <tbody>\n",
       "    <tr>\n",
       "      <th>1253</th>\n",
       "      <td>65.535255</td>\n",
       "      <td>95.01</td>\n",
       "      <td>29.474745</td>\n",
       "    </tr>\n",
       "    <tr>\n",
       "      <th>1251</th>\n",
       "      <td>65.193932</td>\n",
       "      <td>93.92</td>\n",
       "      <td>28.726068</td>\n",
       "    </tr>\n",
       "    <tr>\n",
       "      <th>1254</th>\n",
       "      <td>65.600830</td>\n",
       "      <td>94.26</td>\n",
       "      <td>28.659170</td>\n",
       "    </tr>\n",
       "    <tr>\n",
       "      <th>1250</th>\n",
       "      <td>65.663445</td>\n",
       "      <td>94.06</td>\n",
       "      <td>28.396555</td>\n",
       "    </tr>\n",
       "    <tr>\n",
       "      <th>1252</th>\n",
       "      <td>65.452286</td>\n",
       "      <td>92.74</td>\n",
       "      <td>27.287714</td>\n",
       "    </tr>\n",
       "    <tr>\n",
       "      <th>...</th>\n",
       "      <td>...</td>\n",
       "      <td>...</td>\n",
       "      <td>...</td>\n",
       "    </tr>\n",
       "    <tr>\n",
       "      <th>1044</th>\n",
       "      <td>65.431328</td>\n",
       "      <td>65.55</td>\n",
       "      <td>0.118672</td>\n",
       "    </tr>\n",
       "    <tr>\n",
       "      <th>1050</th>\n",
       "      <td>65.526054</td>\n",
       "      <td>65.48</td>\n",
       "      <td>0.046054</td>\n",
       "    </tr>\n",
       "    <tr>\n",
       "      <th>1048</th>\n",
       "      <td>65.714142</td>\n",
       "      <td>65.68</td>\n",
       "      <td>0.034142</td>\n",
       "    </tr>\n",
       "    <tr>\n",
       "      <th>1047</th>\n",
       "      <td>65.701233</td>\n",
       "      <td>65.73</td>\n",
       "      <td>0.028767</td>\n",
       "    </tr>\n",
       "    <tr>\n",
       "      <th>1046</th>\n",
       "      <td>65.541145</td>\n",
       "      <td>65.56</td>\n",
       "      <td>0.018855</td>\n",
       "    </tr>\n",
       "  </tbody>\n",
       "</table>\n",
       "<p>215 rows × 3 columns</p>\n",
       "</div>"
      ],
      "text/plain": [
       "          preds  actual       diff\n",
       "1253  65.535255   95.01  29.474745\n",
       "1251  65.193932   93.92  28.726068\n",
       "1254  65.600830   94.26  28.659170\n",
       "1250  65.663445   94.06  28.396555\n",
       "1252  65.452286   92.74  27.287714\n",
       "...         ...     ...        ...\n",
       "1044  65.431328   65.55   0.118672\n",
       "1050  65.526054   65.48   0.046054\n",
       "1048  65.714142   65.68   0.034142\n",
       "1047  65.701233   65.73   0.028767\n",
       "1046  65.541145   65.56   0.018855\n",
       "\n",
       "[215 rows x 3 columns]"
      ]
     },
     "execution_count": 14,
     "metadata": {},
     "output_type": "execute_result"
    }
   ],
   "source": [
    "newpred['diff'] = abs(newpred['preds']-newpred['actual'])\n",
    "newpred.sort_values('diff', ascending=False)\n",
    "# newpred.head(10)"
   ]
  },
  {
   "cell_type": "code",
   "execution_count": 15,
   "id": "b5241cd0",
   "metadata": {
    "execution": {
     "iopub.execute_input": "2025-05-15T10:45:31.966011Z",
     "iopub.status.busy": "2025-05-15T10:45:31.965597Z",
     "iopub.status.idle": "2025-05-15T10:45:31.972741Z",
     "shell.execute_reply": "2025-05-15T10:45:31.971825Z"
    },
    "papermill": {
     "duration": 0.015954,
     "end_time": "2025-05-15T10:45:31.974502",
     "exception": false,
     "start_time": "2025-05-15T10:45:31.958548",
     "status": "completed"
    },
    "tags": []
   },
   "outputs": [
    {
     "data": {
      "text/plain": [
       "10.962394023096838"
      ]
     },
     "execution_count": 15,
     "metadata": {},
     "output_type": "execute_result"
    }
   ],
   "source": [
    "from sklearn.metrics import mean_absolute_error\n",
    "mae = mean_absolute_error(preds, ytest)\n",
    "mae"
   ]
  },
  {
   "cell_type": "code",
   "execution_count": null,
   "id": "e467af5a",
   "metadata": {
    "papermill": {
     "duration": 0.006344,
     "end_time": "2025-05-15T10:45:31.987110",
     "exception": false,
     "start_time": "2025-05-15T10:45:31.980766",
     "status": "completed"
    },
    "tags": []
   },
   "outputs": [],
   "source": []
  }
 ],
 "metadata": {
  "kaggle": {
   "accelerator": "none",
   "dataSources": [
    {
     "datasetId": 5732938,
     "sourceId": 9435352,
     "sourceType": "datasetVersion"
    }
   ],
   "dockerImageVersionId": 31040,
   "isGpuEnabled": false,
   "isInternetEnabled": true,
   "language": "python",
   "sourceType": "notebook"
  },
  "kernelspec": {
   "display_name": "Python 3",
   "language": "python",
   "name": "python3"
  },
  "language_info": {
   "codemirror_mode": {
    "name": "ipython",
    "version": 3
   },
   "file_extension": ".py",
   "mimetype": "text/x-python",
   "name": "python",
   "nbconvert_exporter": "python",
   "pygments_lexer": "ipython3",
   "version": "3.11.11"
  },
  "papermill": {
   "default_parameters": {},
   "duration": 12.106374,
   "end_time": "2025-05-15T10:45:32.714170",
   "environment_variables": {},
   "exception": null,
   "input_path": "__notebook__.ipynb",
   "output_path": "__notebook__.ipynb",
   "parameters": {},
   "start_time": "2025-05-15T10:45:20.607796",
   "version": "2.6.0"
  }
 },
 "nbformat": 4,
 "nbformat_minor": 5
}
